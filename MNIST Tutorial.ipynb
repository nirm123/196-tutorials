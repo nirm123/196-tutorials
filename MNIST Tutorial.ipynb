{
 "cells": [
  {
   "cell_type": "markdown",
   "metadata": {},
   "source": [
    "# MNIST with Convolutional Neural Network (CNN)"
   ]
  },
  {
   "cell_type": "markdown",
   "metadata": {},
   "source": [
    "## Assignment\n",
    "\n",
    "MNIST is a dataset of handwritten digits. Below is the implementation of a relatively simple CNN that predicts the digit based on the image. The goals for this week are to:\n",
    "\n",
    "1. Continue researching project/assemble papers you find.\n",
    "2. Read through this notebook and try and gain an understanding. If you have any questions, message in the Discord.\n",
    "3. Create your own notebook and implement a CNN. Try different hyperparameters, architectures, optimizers and see how it impacts the accuracy. Experiment to get a better understanding of how things work.\n",
    "\n",
    "Again, if you have any questions, make sure to message the Discord chat and I will try to respond ASAP. I'm not sure if this is too much work for 1 week, so try to make as much progress as possible and bring your questions/comments to the next meeting. Also tell me if you think this is useful/worthless as I can do more/less of these. I'm hoping this will give everyone a basic understanding moving forward.\n",
    "\n",
    "## Resources\n",
    "\n",
    "Really good notes if you want to get a better understanding of the topics (http://cs231n.github.io/)."
   ]
  },
  {
   "cell_type": "markdown",
   "metadata": {},
   "source": [
    "## Import Libraries"
   ]
  },
  {
   "cell_type": "code",
   "execution_count": 1,
   "metadata": {},
   "outputs": [],
   "source": [
    "# Libraries for building network\n",
    "import torch\n",
    "import torch.nn as nn\n",
    "import torch.nn.functional as F\n",
    "import torch.optim as optim\n",
    "\n",
    "# Libraries for dataset\n",
    "import torchvision\n",
    "import torchvision.transforms as transforms\n",
    "\n",
    "# Miscellaneous Libraries\n",
    "import time"
   ]
  },
  {
   "cell_type": "markdown",
   "metadata": {},
   "source": [
    "## Define Network"
   ]
  },
  {
   "cell_type": "code",
   "execution_count": 2,
   "metadata": {},
   "outputs": [],
   "source": [
    "class tutorial_model(nn.Module):\n",
    "    def __init__(self):\n",
    "        \"\"\" Initialize all layers of model \"\"\"\n",
    "        super(tutorial_model, self).__init__()\n",
    "        self.convolution1 = nn.Conv2d(in_channels=1, out_channels=10, kernel_size=5)     # Convolution Layer 1\n",
    "        self.convolution2 = nn.Conv2d(in_channels=10, out_channels=20, kernel_size=5)    # Convolution Layer 2\n",
    "        \n",
    "        self.conv_dropout = nn.Dropout()                                                 # Dropout Layer\n",
    "        \n",
    "        self.fc1 = nn.Linear(in_features=320, out_features=50)                           # Fully Connected Layer 1\n",
    "        self.fc2 = nn.Linear(in_features=50, out_features=10)                            # Fully Connected Layer 2\n",
    "        \n",
    "        self.pool = nn.MaxPool2d(2, 2)                                                   # Max Pooling Layer\n",
    "        \n",
    "    def forward(self, x):\n",
    "        \"\"\" Chain all layers together \"\"\"\n",
    "        x = self.pool(F.relu(self.convolution1(x)))    # input_x -> Convolution 1 -> RELU -> Pooling -> x_1\n",
    "        x = self.conv_dropout(x)                       # x_1 -> Dropout -> x_2\n",
    "        x = self.pool(F.relu(self.convolution2(x)))    # x_2 -> Convolution 2 -> RELU -> Pooling -> x_3\n",
    "        \n",
    "        x = x.view(-1, 320)                            # Collapse 3D tensor to 1D\n",
    "        \n",
    "        x = self.fc1(x)                                # x_3 -> Fully Connected 1 -> x_4                    \n",
    "        y = self.fc2(x)                                # x_4 -> Fully Connected 2 -> y\n",
    "        return y"
   ]
  },
  {
   "attachments": {},
   "cell_type": "markdown",
   "metadata": {},
   "source": [
    "### Architecture\n",
    "\n",
    "The architecture I implemented is a very simple (common introductory). Here is a visualization.\n",
    "\n",
    "![](http://playagricola.com/Kaggle/extract.png)\n",
    "\n",
    "For more information about this architecture and other potential architectures, check out this link (https://www.kaggle.com/cdeotte/how-to-choose-cnn-architecture-mnist).\n",
    "\n",
    "### Convolution\n",
    "\n",
    "Each channel in a convolution represents a different kernel convolving over the input image. The \"learning\" in a CNN is primarily about changing the weights of these kernels. Here are some visualizations of convolutions.\n",
    "\n",
    "![](https://www.learnopencv.com/wp-content/uploads/2017/11/convolution-example-matrix.gif)\n",
    "\n",
    "\n",
    "![](https://colah.github.io/posts/2014-07-Understanding-Convolutions/img/RiverTrain-ImageConvDiagram.png)\n",
    "\n",
    "\n",
    "This is the equation for determining the dimensions of an image after a convolution. It is useful when doing the math for kernel sizes when developing a network.\n",
    "\n",
    "![](https://miro.medium.com/max/660/1*D47ER7IArwPv69k3O_1nqQ.png)\n",
    "\n",
    "For more information/visualizations, check out this link (https://towardsdatascience.com/intuitively-understanding-convolutions-for-deep-learning-1f6f42faee1).\n",
    "\n",
    "### Max Pooling\n",
    "\n",
    "Max Pooling is like a convolution where the stride = kernel size and the value is the max value. Here is a visualization.\n",
    "\n",
    "![](https://miro.medium.com/max/2344/1*ReZNSf_Yr7Q1nqegGirsMQ@2x.png)\n",
    "\n",
    "### RELU\n",
    "\n",
    "RELU is one of the many activation units used to introduce non-linearity to a network. Non-linearity is what allows a network to model complex functions. RELU is one of the most commonly used activation units. Here is a graph of RELU.\n",
    "\n",
    "![](https://miro.medium.com/max/357/1*oePAhrm74RNnNEolprmTaQ.png)\n",
    "\n",
    "For more information about activation uints, check out this link (https://medium.com/the-theory-of-everything/understanding-activation-functions-in-neural-networks-9491262884e0).\n",
    "\n",
    "### Dropout\n",
    "\n",
    "Dropout is used in order to combat overfitting. Essentially, you randomly choose to ignore certain nodes, and by doing so, you help avoid overfitting. For more information, checkout this link (https://leonardoaraujosantos.gitbooks.io/artificial-inteligence/content/dropout_layer.html).\n",
    "\n",
    "### Fully Connected Layer\n",
    "\n",
    "It's difficult to explain a Fully connected Layer in a couple lines. A lot of the concepts related to FC layers are important throughought ML. I would encourage you to do your own research to understand the topic. Some possible sources (https://towardsdatascience.com/understanding-neural-networks-19020b758230, https://www.youtube.com/watch?v=aircAruvnKk).\n",
    "\n",
    "To just understand the code, we use Fully Connevted layers in order to convert the features calculated through convolutions into a classification. That is, we take the 4x4x20 matrix produced by the last convolution, flatten it into a vector of dimension 320x1, and then feed it into two fully connected layers, which output 10 values. We can then feed these 10 values to a softmax in order to calculate the probability the input image was a specfic digit."
   ]
  },
  {
   "cell_type": "markdown",
   "metadata": {},
   "source": [
    "## Set Hyperparameters"
   ]
  },
  {
   "cell_type": "code",
   "execution_count": 3,
   "metadata": {},
   "outputs": [],
   "source": [
    "num_epochs = 3           # Number of epochs for training\n",
    "batch_size = 64          # Batch Size for training/testing\n",
    "learning_rate = 0.01     # Learning Rate for optimizer\n",
    "momentum = 0.5           # Momentum for optimizer\n",
    "dim = 28                 # Dimensions of MNIST"
   ]
  },
  {
   "cell_type": "markdown",
   "metadata": {},
   "source": [
    "## Setup Data Loader"
   ]
  },
  {
   "cell_type": "code",
   "execution_count": 4,
   "metadata": {},
   "outputs": [],
   "source": [
    "# Transformation for training data\n",
    "transform_train = torchvision.transforms.Compose([\n",
    "    transforms.ToTensor(),                            # Convert grayscale image to pytorch tensor\n",
    "    transforms.Normalize((0.5,), (0.5,)),             # Normalize grayscale data\n",
    "])\n",
    "\n",
    "# Transformation for training data\n",
    "transform_test = transforms.Compose([\n",
    "    transforms.ToTensor(),                            # Convert grayscale image to pytorch tensor\n",
    "    transforms.Normalize((0.5,), (0.5,)),             # Normalize grayscale data\n",
    "])"
   ]
  },
  {
   "cell_type": "code",
   "execution_count": 5,
   "metadata": {},
   "outputs": [],
   "source": [
    "# Download training data\n",
    "trainset = torchvision.datasets.MNIST(root='./files', train=True, download=True, transform=transform_train)\n",
    "\n",
    "# Initialize dataloader for training data\n",
    "train_loader = torch.utils.data.DataLoader(trainset, batch_size=batch_size, shuffle=True, num_workers=8)\n",
    "\n",
    "# Download testing Data\n",
    "testset = torchvision.datasets.MNIST(root='./files', train=False, download=False, transform=transform_test)\n",
    "\n",
    "# Initialize dataloader for testing data\n",
    "test_loader = torch.utils.data.DataLoader(testset, batch_size=batch_size, shuffle=False, num_workers=8)"
   ]
  },
  {
   "cell_type": "markdown",
   "metadata": {},
   "source": [
    "### MNIST Dataset\n",
    "![](https://3qeqpr26caki16dnhd19sv6by6v-wpengine.netdna-ssl.com/wp-content/uploads/2016/05/Examples-from-the-MNIST-dataset.png)"
   ]
  },
  {
   "cell_type": "markdown",
   "metadata": {},
   "source": [
    "## Initialize Model/Optimizer"
   ]
  },
  {
   "cell_type": "code",
   "execution_count": 6,
   "metadata": {},
   "outputs": [],
   "source": [
    "model = tutorial_model()                                               # Initialize previously defined model\n",
    "criterion = nn.CrossEntropyLoss()                                      # Definie loss function (Cross Entropy Loss)\n",
    "optimizer = torch.optim.Adam(model.parameters(), lr=learning_rate)     # Initialize Optimizer (ADAM)\n",
    "model.train();                                                         # Set model to training (updating weights)"
   ]
  },
  {
   "cell_type": "markdown",
   "metadata": {},
   "source": [
    "### Cross Entropy Loss\n",
    "\n",
    "This is the mathematical formulation of cross entropy loss.\n",
    "\n",
    "![](https://sds-platform-private.s3-us-east-2.amazonaws.com/uploads/35_blog_image_38.png)\n",
    "\n",
    "This provides us a way of measuring the accuracy of our model. For more information about loss functions in general, check out this link (https://ml-cheatsheet.readthedocs.io/en/latest/loss_functions.html). For more information about cross entropy loss specifically, check out this link (https://towardsdatascience.com/understanding-binary-cross-entropy-log-loss-a-visual-explanation-a3ac6025181a).\n",
    "\n",
    "### ADAM\n",
    "\n",
    "This is the mathematical formulation of the ADAM Optimizer. It is one of the more commonly used optimizers.\n",
    "\n",
    "![](https://i.stack.imgur.com/08VZN.png)\n",
    "\n",
    "Ultimately, most of machine learning is basically an optimization problem. You are trying to minimize the loss functions. Most optimization methods (including ADAM) revolve around calculating the gradient of the loss function and then taking a step to update the weights. For more information about ADAM, check out this link (https://machinelearningmastery.com/adam-optimization-algorithm-for-deep-learning/). "
   ]
  },
  {
   "cell_type": "markdown",
   "metadata": {},
   "source": [
    "## Train Model"
   ]
  },
  {
   "cell_type": "code",
   "execution_count": null,
   "metadata": {},
   "outputs": [
    {
     "name": "stdout",
     "output_type": "stream",
     "text": [
      "Epoch: 1/3, Step: 1/938, Loss: 2.3555333614349365, Accuracy: 7.8125%\n",
      "Epoch: 1/3, Step: 101/938, Loss: 0.38940656185150146, Accuracy: 92.1875%\n",
      "Epoch: 1/3, Step: 201/938, Loss: 0.19838890433311462, Accuracy: 95.3125%\n",
      "Epoch: 1/3, Step: 301/938, Loss: 0.31205636262893677, Accuracy: 90.625%\n",
      "Epoch: 1/3, Step: 401/938, Loss: 0.13935035467147827, Accuracy: 98.4375%\n",
      "Epoch: 1/3, Step: 501/938, Loss: 0.10574089735746384, Accuracy: 96.875%\n",
      "Epoch: 1/3, Step: 601/938, Loss: 0.16353940963745117, Accuracy: 93.75%\n",
      "Epoch: 1/3, Step: 701/938, Loss: 0.24433059990406036, Accuracy: 90.625%\n",
      "Epoch: 1/3, Step: 801/938, Loss: 0.2317436933517456, Accuracy: 95.3125%\n",
      "Epoch: 1/3, Step: 901/938, Loss: 0.2418145388364792, Accuracy: 92.1875%\n",
      "Epoch: 2/3, Step: 1/938, Loss: 0.5233689546585083, Accuracy: 81.25%\n",
      "Epoch: 2/3, Step: 101/938, Loss: 0.13728179037570953, Accuracy: 93.75%\n",
      "Epoch: 2/3, Step: 201/938, Loss: 0.1206330731511116, Accuracy: 93.75%\n",
      "Epoch: 2/3, Step: 301/938, Loss: 0.05145410820841789, Accuracy: 96.875%\n",
      "Epoch: 2/3, Step: 401/938, Loss: 0.3719920516014099, Accuracy: 87.5%\n",
      "Epoch: 2/3, Step: 501/938, Loss: 0.22536924481391907, Accuracy: 92.1875%\n",
      "Epoch: 2/3, Step: 601/938, Loss: 0.31580838561058044, Accuracy: 93.75%\n",
      "Epoch: 2/3, Step: 701/938, Loss: 0.17188942432403564, Accuracy: 93.75%\n",
      "Epoch: 2/3, Step: 801/938, Loss: 0.04348114877939224, Accuracy: 100.0%\n",
      "Epoch: 2/3, Step: 901/938, Loss: 0.04916313290596008, Accuracy: 98.4375%\n",
      "Epoch: 3/3, Step: 1/938, Loss: 0.31340324878692627, Accuracy: 87.5%\n",
      "Epoch: 3/3, Step: 101/938, Loss: 0.05903104320168495, Accuracy: 96.875%\n",
      "Epoch: 3/3, Step: 201/938, Loss: 0.1376274675130844, Accuracy: 95.3125%\n",
      "Epoch: 3/3, Step: 301/938, Loss: 0.14852651953697205, Accuracy: 90.625%\n",
      "Epoch: 3/3, Step: 401/938, Loss: 0.194740429520607, Accuracy: 92.1875%\n",
      "Epoch: 3/3, Step: 501/938, Loss: 0.2006775587797165, Accuracy: 93.75%\n"
     ]
    }
   ],
   "source": [
    "# Store time to calculate train time\n",
    "start_time = time.time()\n",
    "\n",
    "# Store loss and accuracy data\n",
    "loss = []\n",
    "accuracy = []\n",
    "\n",
    "# Train the model\n",
    "# Loop for number of epochs\n",
    "for epoch in range(num_epochs):\n",
    "    \n",
    "    # Loop through data in batch sized increments\n",
    "    for batch_idx, (X_train_batch, Y_train_batch) in enumerate(train_loader):\n",
    "        \n",
    "        # If trained on all data in epoch, move onto next epoch\n",
    "        if(Y_train_batch.shape[0]<batch_size):\n",
    "            continue\n",
    "\n",
    "        output = model(X_train_batch)                           # Forward pass through network\n",
    "        curr_loss = criterion(output, Y_train_batch)            # Calculate loss of predictions\n",
    "        loss.append(curr_loss.item())                           # Store loss\n",
    "\n",
    "        optimizer.zero_grad()                                   # Clear last calculation\n",
    "        curr_loss.backward()                                    # Calculate gradient based on loss\n",
    "        optimizer.step()                                        # Update model weights\n",
    "\n",
    "        _, predicted = torch.max(output.data, 1)                # Extract model predictions\n",
    "        correct = (predicted == Y_train_batch).sum().item()     # Calculate number of correct predictions\n",
    "        accuracy.append(correct/Y_train_batch.size(0))          # Calculate/store accuracy\n",
    "        \n",
    "        # Intermitently print statistics\n",
    "        if batch_idx % 100 == 0:\n",
    "            print('Epoch: ' + str(epoch+1) + '/' + str(num_epochs) + ', Step: ' \n",
    "                  + str(batch_idx+1) + '/' + str(len(train_loader)) + ', Loss: ' \n",
    "                  + str(curr_loss.item()) + ', Accuracy: ' \n",
    "                  + str(correct/Y_train_batch.size(0)*100) + '%')\n",
    "\n",
    "# Store time to calculate train time\n",
    "end_time = time.time()\n",
    "\n",
    "# Print train time\n",
    "print('Run Time: ' + str(end_time - start_time))"
   ]
  },
  {
   "cell_type": "markdown",
   "metadata": {},
   "source": [
    "## Test Model"
   ]
  },
  {
   "cell_type": "code",
   "execution_count": 8,
   "metadata": {},
   "outputs": [
    {
     "name": "stdout",
     "output_type": "stream",
     "text": [
      "Test Accuracy: 96.41999999999999%\n"
     ]
    }
   ],
   "source": [
    "# Test the model\n",
    "# Set model to testing (constant weights)\n",
    "model.eval()\n",
    "\n",
    "with torch.no_grad():\n",
    "    # Store number of correct/total samples in test data\n",
    "    correct = 0\n",
    "    total = 0\n",
    "    \n",
    "    # Loop through test data\n",
    "    for X_test_batch, Y_test_batch in test_loader:\n",
    "        output = model(X_test_batch)                            # Forward pass through network\n",
    "        _, predicted = torch.max(output.data, 1)                # Extract prediction\n",
    "        total += Y_test_batch.size(0)                           # Update total number of sample\n",
    "        correct += (predicted == Y_test_batch).sum().item()     # Update number of correct predictions\n",
    "\n",
    "print('Test Accuracy: ' + str((correct/total) * 100) + '%')"
   ]
  }
 ],
 "metadata": {
  "kernelspec": {
   "display_name": "Python 3",
   "language": "python",
   "name": "python3"
  },
  "language_info": {
   "codemirror_mode": {
    "name": "ipython",
    "version": 3
   },
   "file_extension": ".py",
   "mimetype": "text/x-python",
   "name": "python",
   "nbconvert_exporter": "python",
   "pygments_lexer": "ipython3",
   "version": "3.7.0"
  }
 },
 "nbformat": 4,
 "nbformat_minor": 2
}
